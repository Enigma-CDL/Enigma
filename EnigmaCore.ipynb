{
 "cells": [
  {
   "cell_type": "markdown",
   "metadata": {},
   "source": [
    "## Enigma"
   ]
  },
  {
   "cell_type": "markdown",
   "metadata": {},
   "source": [
    "In this project we explore a way to take a single flight schedule and return an imporved version that has cost savings and reduced risk of opperational failure. "
   ]
  },
  {
   "cell_type": "code",
   "execution_count": 1,
   "metadata": {},
   "outputs": [],
   "source": [
    "from flightHelper import *\n",
    "from qGAN.qGAN import *\n",
    "from GBS.gbsHelper import *\n",
    "import numpy as np"
   ]
  },
  {
   "cell_type": "code",
   "execution_count": 3,
   "metadata": {},
   "outputs": [],
   "source": [
    "#Load Data"
   ]
  },
  {
   "cell_type": "code",
   "execution_count": 4,
   "metadata": {},
   "outputs": [],
   "source": [
    "#Encode for DWAVE"
   ]
  },
  {
   "cell_type": "code",
   "execution_count": 5,
   "metadata": {},
   "outputs": [],
   "source": [
    "#Run on DWAVE, Hybrid and Annealer"
   ]
  },
  {
   "cell_type": "code",
   "execution_count": 6,
   "metadata": {},
   "outputs": [],
   "source": [
    "#Get Annealing results"
   ]
  },
  {
   "cell_type": "code",
   "execution_count": 7,
   "metadata": {},
   "outputs": [],
   "source": [
    "#Input results in GAN"
   ]
  },
  {
   "cell_type": "code",
   "execution_count": 2,
   "outputs": [],
   "source": [
    "# Create random adjacency matrices as dummy data\n",
    "def random_adjacency_matrix(n):\n",
    "    \"\"\"\n",
    "    creates an nxn symmetric adjacency matrix with 0s along the diagonal\n",
    "    used to represent an undirected graph with n nodes\n",
    "    :param n: dimension\n",
    "    :return: nxn numpy array\n",
    "    \"\"\"\n",
    "    matrix = [[np.random.randint(0, 1) for i in range(n)] for j in range(n)]\n",
    "    # No vertex connects to itself\n",
    "    for i in range(n):\n",
    "        matrix[i][i] = 0\n",
    "    # If i is connected to j, j is connected to i\n",
    "    for i in range(n):\n",
    "        for j in range(n):\n",
    "            matrix[j][i] = matrix[i][j]\n",
    "    return np.array(matrix)"
   ],
   "metadata": {
    "collapsed": false,
    "pycharm": {
     "name": "#%%\n"
    }
   }
  },
  {
   "cell_type": "code",
   "execution_count": null,
   "metadata": {
    "pycharm": {
     "is_executing": true
    }
   },
   "outputs": [
    {
     "name": "stdout",
     "output_type": "stream",
     "text": [
      "WARNING:tensorflow:From /home/andrew/Documents/PhD/CDLQuantum/CDLenv/lib/python3.7/site-packages/tensorflow/python/ops/array_grad.py:644: _EagerTensorBase.cpu (from tensorflow.python.framework.ops) is deprecated and will be removed in a future version.\n",
      "Instructions for updating:\n",
      "Use tf.identity instead.\n",
      "Gen cost: 0.5592903424735903\n",
      "Disc cost: -0.019386977215125722\n",
      "Generated sample:\n",
      "[[0. 0.]\n",
      " [0. 0.]]\n"
     ]
    },
    {
     "name": "stderr",
     "output_type": "stream",
     "text": [
      "/home/andrew/Documents/PhD/CDLQuantum/CDLenv/lib/python3.7/site-packages/strawberryfields/program.py:497: UserWarning: The circuit consists of 4 disconnected components.\n",
      "WARNING:tensorflow:From /home/andrew/Documents/PhD/CDLQuantum/CDLenv/lib/python3.7/site-packages/tensorflow/python/ops/array_grad.py:644: _EagerTensorBase.cpu (from tensorflow.python.framework.ops) is deprecated and will be removed in a future version.\n",
      "Instructions for updating:\n",
      "Use tf.identity instead.\n"
     ]
    }
   ],
   "source": [
    "#Input results in QGAN\n",
    "adjacency_matrix = np.random.randn(4).reshape(2,2)\n",
    "samples =[random_adjacency_matrix(2) for _ in range(20)]\n",
    "train_qGAN(adjacency_matrix, samples, 10, gen_dev='strawberryfields.fock', disc_dev='strawberryfields.fock')"
   ]
  },
  {
   "cell_type": "code",
   "execution_count": 9,
   "metadata": {},
   "outputs": [],
   "source": [
    "#Collect and balance Data"
   ]
  },
  {
   "cell_type": "code",
   "execution_count": 10,
   "metadata": {},
   "outputs": [],
   "source": [
    "#Input into GBS system\n",
    "gbs = GBS()"
   ]
  },
  {
   "cell_type": "code",
   "execution_count": 11,
   "metadata": {},
   "outputs": [],
   "source": [
    "#Show output graphs (top few)"
   ]
  },
  {
   "cell_type": "code",
   "execution_count": 12,
   "metadata": {},
   "outputs": [],
   "source": [
    "#plot results"
   ]
  },
  {
   "cell_type": "code",
   "execution_count": 13,
   "metadata": {},
   "outputs": [],
   "source": [
    "#show savings"
   ]
  },
  {
   "cell_type": "code",
   "execution_count": null,
   "metadata": {},
   "outputs": [],
   "source": []
  }
 ],
 "metadata": {
  "kernelspec": {
   "display_name": "Python 3",
   "language": "python",
   "name": "python3"
  },
  "language_info": {
   "codemirror_mode": {
    "name": "ipython",
    "version": 3
   },
   "file_extension": ".py",
   "mimetype": "text/x-python",
   "name": "python",
   "nbconvert_exporter": "python",
   "pygments_lexer": "ipython3",
   "version": "3.7.5"
  }
 },
 "nbformat": 4,
 "nbformat_minor": 4
}
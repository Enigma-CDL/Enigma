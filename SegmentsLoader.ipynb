{
 "cells": [
  {
   "cell_type": "markdown",
   "metadata": {},
   "source": [
    "# Enigma - CDL Hackathon - Flight Graph Analysis\n",
    "\n",
    "\n",
    "\n"
   ]
  },
  {
   "cell_type": "code",
   "execution_count": 9,
   "metadata": {
    "scrolled": true
   },
   "outputs": [],
   "source": [
    "import networkx as nx\n",
    "from collections import defaultdict\n",
    "from dimod import BinaryQuadraticModel\n",
    "from tabu import TabuSampler        \n",
    "from dwave.system import DWaveSampler, EmbeddingComposite, LeapHybridSampler\n",
    "import neal\n",
    "\n",
    "import flightHelper\n",
    "\n"
   ]
  },
  {
   "cell_type": "code",
   "execution_count": 12,
   "metadata": {},
   "outputs": [
    {
     "data": {
      "image/png": "[encoded data removed]",
      "text/plain": [
       "<Figure size 432x288 with 1 Axes>"
      ]
     },
     "metadata": {},
     "output_type": "display_data"
    }
   ],
   "source": [
    "\n",
    "segments = []\n",
    "\n",
    "def buildSet1():\n",
    "    segments.append( Node(Segment(1, \"101\", \"LCA\", \"ATH\", 600, 695, 1, 1)))\n",
    "    segments.append( Node(Segment(2, \"102\", \"ATH\", \"LCA\", 755, 845, 1, 1)))\n",
    "    segments.append( Node(Segment(3, \"103\", \"LCA\", \"ATH\", 875, 970, 1, 1)))\n",
    "    segments.append( Node(Segment(4, \"104\", \"ATH\", \"LCA\", 1035, 1125, 1, 1)))\n",
    "def buildSet2():\n",
    "    segments.append( Node(Segment(1, '2450', 'HOT', 'ELD', 425, 465, 1, 1)))\n",
    "    segments.append( Node(Segment(6, '2450', 'ELD', 'IAH', 485, 595, 1, 1)))\n",
    "    segments.append( Node(Segment(11, '2451', 'IAH', 'ELD', 625, 740, 1, 1)))\n",
    "    segments.append( Node(Segment(16, '2451', 'ELD', 'HOT', 755, 795, 1, 1)))\n",
    "    segments.append( Node(Segment(21, '2452', 'HOT', 'ELD', 850, 890, 1, 1)))\n",
    "    segments.append( Node(Segment(26, '2452', 'ELD', 'IAH', 905, 1015, 1, 1)))\n",
    "    segments.append( Node(Segment(31, '2453', 'IAH', 'ELD', 1050, 1160, 1, 1)))\n",
    "    segments.append( Node(Segment(36, '2453', 'ELD', 'HOT', 1175, 1215, 1, 1)))\n",
    "    segments.append( Node(Segment(41, '2454', 'HOT', 'MEM', 810, 890, 1, 1)))\n",
    "    segments.append( Node(Segment(46, '2455', 'MEM', 'HOT', 750, 830, 1, 1)))\n",
    "    segments.append( Node(Segment(51, '2456', 'HOT', 'MEM', 1230, 1310, 1, 1)))\n",
    "    segments.append( Node(Segment(56, '2457', 'MEM', 'HOT', 330, 410, 1, 1)))\n",
    "    segments.append( Node(Segment(136, '4125', 'MEM', 'HRO', 920, 1005, 1, 1)))\n",
    "    segments.append( Node(Segment(142, '4126', 'HRO', 'MEM', 1030, 1110, 1, 1)))\n",
    "    segments.append( Node(Segment(148, '4127', 'MEM', 'HRO', 500, 585, 1, 1)))\n",
    "    segments.append( Node(Segment(153, '4128', 'HRO', 'MEM', 615, 695, 1, 1)))\n",
    "    segments.append( Node(Segment(158, '4311', 'HRO', 'MEM', 390, 470, 1, 1)))\n",
    "    segments.append( Node(Segment(164, '4311', 'HRO', 'MEM', 390, 470, 1, 1)))\n",
    "    segments.append( Node(Segment(169, '4311', 'HRO', 'MEM', 390, 470, 1, 1)))\n",
    "    segments.append( Node(Segment(175, '4316', 'MEM', 'HRO', 1135, 1220, 1, 1)))\n",
    "\n",
    "def buildSet3():\n",
    "    segments.append( Node(Segment(73, '3312', 'PDX', 'PDT', 420, 500, 1, 1)))\n",
    "    segments.append( Node(Segment(78, '3314', 'PDX', 'PDT', 635, 715, 1, 1)))\n",
    "    segments.append( Node(Segment(83, '3316', 'PDX', 'PDT', 920, 1000, 1, 1)))\n",
    "    segments.append( Node(Segment(88, '3318', 'PDX', 'PDT', 1135, 1215, 1, 1)))\n",
    "    segments.append( Node(Segment(97, '3318', 'PDX', 'PDT', 1135, 1215, 1, 1)))\n",
    "    segments.append( Node(Segment(103, '3321', 'PDT', 'PDX', 315, 395, 1, 1)))\n",
    "    segments.append( Node(Segment(108, '3323', 'PDT', 'PDX', 525, 605, 1, 1)))\n",
    "    segments.append( Node(Segment(113, '3325', 'PDT', 'PDX', 740, 820, 1, 1)))\n",
    "    segments.append( Node(Segment(118, '3327', 'PDT', 'PDX', 1025, 1105, 1, 1)))\n",
    "    segments.append( Node(Segment(126, '3327', 'PDT', 'PDX', 1025, 1105, 1, 1)))\n",
    "\n",
    "\n",
    "buildSet2()\n",
    "G2 = nx.DiGraph()\n",
    "for n1 in segments:\n",
    "    for n2 in segments:\n",
    "        if ( n1.id != n2.id ):\n",
    "            # Prevent connections when gaps are 0 or negative\n",
    "            cw = ConnectWeight(n1.obj,n2.obj)\n",
    "            if ( cw.gap > 0 ):\n",
    "                G2.add_weighted_edges_from([(n1.id,n2.id, cw.gap  )])\n",
    "                \n",
    "nx.draw_networkx(G2, node_size=600 , alpha=1)\n"
   ]
  },
  {
   "cell_type": "markdown",
   "metadata": {},
   "source": [
    "\n",
    "\n",
    "\n",
    "\n",
    "\n",
    "\n",
    "\n"
   ]
  },
  {
   "cell_type": "code",
   "execution_count": null,
   "metadata": {
    "scrolled": true
   },
   "outputs": [],
   "source": []
  }
 ],
 "metadata": {
  "kernelspec": {
   "display_name": "Python 3",
   "language": "python",
   "name": "python3"
  },
  "language_info": {
   "codemirror_mode": {
    "name": "ipython",
    "version": 3
   },
   "file_extension": ".py",
   "mimetype": "text/x-python",
   "name": "python",
   "nbconvert_exporter": "python",
   "pygments_lexer": "ipython3",
   "version": "3.7.6"
  }
 },
 "nbformat": 4,
 "nbformat_minor": 4
}

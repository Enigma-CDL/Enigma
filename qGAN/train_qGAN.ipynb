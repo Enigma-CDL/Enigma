{
 "cells": [
  {
   "cell_type": "code",
   "execution_count": 1,
   "metadata": {},
   "outputs": [],
   "source": [
    "import tensorflow as tf\n",
    "import pennylane as qml\n",
    "import numpy as np\n",
    "import sys\n",
    "from qGAN import qGAN, create_qGAN"
   ]
  },
  {
   "cell_type": "markdown",
   "metadata": {
    "pycharm": {
     "name": "#%% md\n"
    }
   },
   "source": [
    "Here we will train the qGAN created in the file qGAN.py and train it on some simple examples.\n",
    "First, a function to create arbitrary adjacency matrices."
   ]
  },
  {
   "cell_type": "code",
   "execution_count": 2,
   "metadata": {
    "pycharm": {
     "name": "#%%\n"
    }
   },
   "outputs": [],
   "source": [
    "def random_adjacency_matrix(n):\n",
    "    \"\"\"\n",
    "    creates an nxn symmetric adjacency matrix with 0s along the diagonal\n",
    "    used to represent an undirected graph with n nodes\n",
    "    :param n: dimension\n",
    "    :return: nxn numpy array\n",
    "    \"\"\"\n",
    "    matrix = [[np.random.randint(0, 1) for i in range(n)] for j in range(n)]\n",
    "    # No vertex connects to itself\n",
    "    for i in range(n):\n",
    "        matrix[i][i] = 0\n",
    "    # If i is connected to j, j is connected to i\n",
    "    for i in range(n):\n",
    "        for j in range(n):\n",
    "            matrix[j][i] = matrix[i][j]\n",
    "    return np.array(matrix)"
   ]
  },
  {
   "cell_type": "code",
   "execution_count": null,
   "metadata": {
    "pycharm": {
     "name": "#%%\n"
    }
   },
   "outputs": [
    {
     "name": "stdout",
     "output_type": "stream",
     "text": [
      "WARNING:tensorflow:From /home/andrew/Documents/PhD/CDLQuantum/CDLenv/lib/python3.7/site-packages/tensorflow/python/ops/array_grad.py:644: _EagerTensorBase.cpu (from tensorflow.python.framework.ops) is deprecated and will be removed in a future version.\n",
      "Instructions for updating:\n",
      "Use tf.identity instead.\n"
     ]
    },
    {
     "name": "stderr",
     "output_type": "stream",
     "text": [
      "WARNING:tensorflow:From /home/andrew/Documents/PhD/CDLQuantum/CDLenv/lib/python3.7/site-packages/tensorflow/python/ops/array_grad.py:644: _EagerTensorBase.cpu (from tensorflow.python.framework.ops) is deprecated and will be removed in a future version.\n",
      "Instructions for updating:\n",
      "Use tf.identity instead.\n"
     ]
    },
    {
     "name": "stdout",
     "output_type": "stream",
     "text": [
      "Gen cost: [3.64791615]\n",
      "Disc cost: [-0.27474435]\n",
      "Generated sample:\n",
      "[[0. 1. 0.]\n",
      " [1. 0. 1.]\n",
      " [0. 0. 0.]]\n"
     ]
    }
   ],
   "source": [
    "dataset = [random_adjacency_matrix(3) for _ in range(50)]\n",
    "create_qGAN(dataset[0], dataset, 30)\n",
    "\n",
    "\n"
   ]
  },
  {
   "cell_type": "markdown",
   "metadata": {},
   "source": [
    "Penalties: We are getting lots of matrices with 1 on the diagonal, which we ideally don't want. We also want to penalise going to a  location twice. This means we want to penalise measurements of qubits 0, n+1, 2n+2, ..., n**2 - 1.\n",
    "This is just the Z expectation value of these qubits.\n",
    "\n",
    "We also require that the qubits in each row and column have hamming weight 1. These qubits are $|0, 1, ..., n \\rangle$, $|n + 0, n + 1, ..., n \\rangle$, ... $|n**2 - n, ..., n**2 \\rangle$.\n",
    "\n",
    "And for the columns we have $|n*0, n*1, ..., n*(n-1) \\rangle$, $|n*0 + 1, n*1 + 1, ..., n*(n-1) + 1 \\rangle$, $|n*0 + n, n*1 + n, ..., n*(n-1) + n\\rangle$.\n",
    "\n"
   ]
  }
 ],
 "metadata": {
  "kernelspec": {
   "display_name": "Python 3",
   "language": "python",
   "name": "python3"
  },
  "language_info": {
   "codemirror_mode": {
    "name": "ipython",
    "version": 3
   },
   "file_extension": ".py",
   "mimetype": "text/x-python",
   "name": "python",
   "nbconvert_exporter": "python",
   "pygments_lexer": "ipython3",
   "version": "3.7.5"
  }
 },
 "nbformat": 4,
 "nbformat_minor": 1
}
